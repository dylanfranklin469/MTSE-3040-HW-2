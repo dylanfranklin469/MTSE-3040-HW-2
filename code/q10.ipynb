{
 "cells": [
  {
   "cell_type": "code",
   "execution_count": 1,
   "id": "9f7aee90-e75e-4227-9f15-7e52666570f4",
   "metadata": {},
   "outputs": [
    {
     "name": "stdout",
     "output_type": "stream",
     "text": [
      "The integral of p(x): 1.0\n",
      "This function is normalized.\n",
      "The mean of p(x): 0.6666666666666667\n",
      "The variance of p(x): 0.05555555555555555\n",
      "The skewness of p(x): -0.5656854249492389\n"
     ]
    }
   ],
   "source": [
    "from scipy.integrate import quad\n",
    "import matplotlib.pyplot as plt\n",
    "import numpy as np\n",
    "\n",
    "#function\n",
    "def baseFn(x):\n",
    "    return 2*x\n",
    "\n",
    "#functions to be integrated\n",
    "def firMomFn(x):\n",
    "    return x * 2 * x\n",
    "fnMean = quad(firMomFn,0,1)\n",
    "\n",
    "def variFn(x):\n",
    "    return ((x - fnMean[0])**2) * 2 * x\n",
    "variance = quad(variFn, 0,1)\n",
    "\n",
    "def skewnessFn(x):\n",
    "    return (((x - fnMean[0])/ np.sqrt(variance[0]))**3) * 2 * x\n",
    "skewness = quad(skewnessFn,0,1)\n",
    "\n",
    "#normalization check\n",
    "normCheck = quad(baseFn,0,1)\n",
    "if normCheck[0] == 1.0:\n",
    "    print(\"The integral of p(x): \" + str(normCheck[0]))\n",
    "    print(\"This function is normalized.\")\n",
    "else:\n",
    "    print(\"The integral of p(x): \" + str(normCheck[0]))\n",
    "    print(\"This function is not normalized.\")\n",
    "\n",
    "\n",
    "print(\"The mean of p(x): \" + str(fnMean[0]))\n",
    "print(\"The variance of p(x): \" + str(variance[0]))\n",
    "print(\"The skewness of p(x): \" + str(skewness[0]))\n",
    "\n",
    "\n",
    "\n"
   ]
  },
  {
   "cell_type": "code",
   "execution_count": null,
   "id": "0ff6d524-605f-46ca-be88-6d9187a76005",
   "metadata": {},
   "outputs": [],
   "source": []
  }
 ],
 "metadata": {
  "kernelspec": {
   "display_name": "coding-envir",
   "language": "python",
   "name": "coding-envir"
  },
  "language_info": {
   "codemirror_mode": {
    "name": "ipython",
    "version": 3
   },
   "file_extension": ".py",
   "mimetype": "text/x-python",
   "name": "python",
   "nbconvert_exporter": "python",
   "pygments_lexer": "ipython3",
   "version": "3.13.7"
  }
 },
 "nbformat": 4,
 "nbformat_minor": 5
}
